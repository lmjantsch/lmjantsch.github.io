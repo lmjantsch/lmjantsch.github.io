{
 "cells": [
  {
   "cell_type": "code",
   "execution_count": 69,
   "id": "b4dfb723",
   "metadata": {},
   "outputs": [],
   "source": [
    "import os\n",
    "\n",
    "parent_dir = os.getcwd()\n",
    "src_path = os.path.join(parent_dir, 'src')"
   ]
  },
  {
   "cell_type": "code",
   "execution_count": 70,
   "id": "7891086a",
   "metadata": {},
   "outputs": [],
   "source": [
    "def get_files(\n",
    "        path,\n",
    "        file_endings = ['.ts', '.astro'],\n",
    "        ignore = ['.DS_Store']\n",
    "):\n",
    "    file = os.path.split(path)[-1]\n",
    "    \n",
    "    if os.path.isdir(path):\n",
    "        dir_files = os.listdir(path)\n",
    "        cache = {}\n",
    "\n",
    "        for file_name in dir_files:\n",
    "                \n",
    "            # return if path is ignored\n",
    "            if file_name in ignore: continue\n",
    "            \n",
    "            new_path = os.path.join(path, file_name)\n",
    "            cache[file_name] = get_files(new_path)\n",
    "\n",
    "        return cache\n",
    "    \n",
    "    if os.path.splitext(path)[-1] not in file_endings:\n",
    "        return None\n",
    "    \n",
    "    with open(path) as f:\n",
    "        return f.read()"
   ]
  },
  {
   "cell_type": "code",
   "execution_count": 71,
   "id": "24f8188b",
   "metadata": {},
   "outputs": [],
   "source": [
    "def create_tree(cache):\n",
    "    keys = cache.keys()\n",
    "    tree_str = ''\n",
    "    for i, key in enumerate(keys):\n",
    "        is_last_key = i == len(keys) - 1\n",
    "        if not is_last_key:\n",
    "            tree_str += f\"├── {key}\\n\"\n",
    "        else:\n",
    "            tree_str += f\"└── {key}\\n\"\n",
    "\n",
    "        if isinstance(cache[key], dict):\n",
    "            child_str_lst = create_tree(cache[key]).split('\\n')\n",
    "            for child_str in child_str_lst[:-1]:\n",
    "                if not is_last_key:\n",
    "                    tree_str += f\"│   {child_str}\\n\"\n",
    "                else:\n",
    "                    tree_str += f\"    {child_str}\\n\"\n",
    "    return tree_str\n",
    "\n",
    "def heading(heading):\n",
    "    h_str = f\"#       {heading}       #\"\n",
    "    fill_str = \"#\"*len(h_str)\n",
    "    return f\"\\n\\n{fill_str}\\n{h_str}\\n{fill_str}\\n\"\n",
    "\n",
    "def create_file_out(cache, key = None):\n",
    "    out_str = \"\"\n",
    "\n",
    "    if isinstance(cache, dict):\n",
    "        for key in cache.keys():\n",
    "            out_str += create_file_out(cache[key], key)\n",
    "        return out_str\n",
    "\n",
    "    if cache != None:\n",
    "        out_str += f\"{heading(key)}\\n{cache.strip()}\\n\"\n",
    "    return out_str"
   ]
  },
  {
   "cell_type": "code",
   "execution_count": 72,
   "id": "289ac148",
   "metadata": {},
   "outputs": [],
   "source": [
    "cache = get_files(src_path)\n",
    "tree_str = create_tree(cache)\n",
    "\n",
    "out_str = f\"{heading('Folder Tree')}\\n{tree_str}\\n\"\n",
    "\n",
    "out_str += create_file_out(cache)\n",
    "\n",
    "with open('project_file.txt', 'w') as f:\n",
    "    f.write(out_str)"
   ]
  }
 ],
 "metadata": {
  "kernelspec": {
   "display_name": "lasse",
   "language": "python",
   "name": "python3"
  },
  "language_info": {
   "codemirror_mode": {
    "name": "ipython",
    "version": 3
   },
   "file_extension": ".py",
   "mimetype": "text/x-python",
   "name": "python",
   "nbconvert_exporter": "python",
   "pygments_lexer": "ipython3",
   "version": "3.11.11"
  }
 },
 "nbformat": 4,
 "nbformat_minor": 5
}
